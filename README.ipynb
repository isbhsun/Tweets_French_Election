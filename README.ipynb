{
 "cells": [
  {
   "cell_type": "markdown",
   "metadata": {},
   "source": [
    "# Mentions of Candidates\n",
    "\n",
    "## Allan Alberts, Robbie Gamboa, and Isabella Sun\n",
    "\n",
    "### Introduction\n",
    "The 2017 French Presidential Election between Emmanuel Macron and Marine Le Pen was a popular topic of discussion on Twitter. Our client, Jacque, requested an analysis of the twitter data surrounding this topic. We presented the key findings below. \n",
    "\n",
    "### Data \n",
    "Our dataset contains 216,912 tweets published around the time of the elction. The dataset includes information about the tweet, geographic location, time, replies, retweets, favorites, and user information. \n",
    "\n",
    "For our analysis, we focused on the text of the tweet, when the tweet was posted, and user information. \n",
    "\n",
    "### Analysis \n",
    "\n",
    "On average Le Pen had **30.46** twitter mentions per hour where Macron had **118.29** twitter mentions per hour\n"
   ]
  },
  {
   "cell_type": "markdown",
   "metadata": {},
   "source": [
    "![alt text](time.png \"Title\")"
   ]
  },
  {
   "cell_type": "markdown",
   "metadata": {},
   "source": [
    "![alt text](follower_graph.png \"Title\")"
   ]
  },
  {
   "cell_type": "markdown",
   "metadata": {},
   "source": [
    "![alt text](candidate.png \"Title\")"
   ]
  },
  {
   "cell_type": "markdown",
   "metadata": {},
   "source": [
    "### Further Study\n",
    "\n",
    "The limitation of our analysis is that it only accounts for mentions of Le Pen or Macron. We did not consider any possible possitive or negative sentiment about either candidate in the tweets. Additional analysis of the sentiment would be valuable informatin.  "
   ]
  }
 ],
 "metadata": {
  "kernelspec": {
   "display_name": "Python 3",
   "language": "python",
   "name": "python3"
  },
  "language_info": {
   "codemirror_mode": {
    "name": "ipython",
    "version": 3
   },
   "file_extension": ".py",
   "mimetype": "text/x-python",
   "name": "python",
   "nbconvert_exporter": "python",
   "pygments_lexer": "ipython3",
   "version": "3.7.9"
  }
 },
 "nbformat": 4,
 "nbformat_minor": 4
}
